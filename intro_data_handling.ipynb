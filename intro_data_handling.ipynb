{
  "nbformat": 4,
  "nbformat_minor": 0,
  "metadata": {
    "colab": {
      "name": "intro_data_handling.ipynb",
      "provenance": [],
      "collapsed_sections": []
    },
    "kernelspec": {
      "name": "python3",
      "display_name": "Python 3"
    },
    "language_info": {
      "name": "python"
    }
  },
  "cells": [
    {
      "cell_type": "code",
      "metadata": {
        "colab": {
          "base_uri": "https://localhost:8080/"
        },
        "id": "Ili9I_lbD2NT",
        "outputId": "27e5af6a-0ed7-4459-c8a9-3464d176f10c"
      },
      "source": [
        "import numpy as np\n",
        "import string\n",
        "\n",
        "\n",
        "from google.colab import drive\n",
        "drive.mount('/content/drive')"
      ],
      "execution_count": null,
      "outputs": [
        {
          "output_type": "stream",
          "name": "stdout",
          "text": [
            "Mounted at /content/drive\n"
          ]
        }
      ]
    },
    {
      "cell_type": "code",
      "metadata": {
        "colab": {
          "base_uri": "https://localhost:8080/"
        },
        "id": "Q_vT7TFMEeQ9",
        "outputId": "0b54cd77-15ae-4079-d107-28edcd1f5d6a"
      },
      "source": [
        "!pip install tld"
      ],
      "execution_count": null,
      "outputs": [
        {
          "output_type": "stream",
          "name": "stdout",
          "text": [
            "Collecting tld\n",
            "  Downloading tld-0.12.6-py37-none-any.whl (412 kB)\n",
            "\u001b[?25l\r\u001b[K     |▉                               | 10 kB 35.1 MB/s eta 0:00:01\r\u001b[K     |█▋                              | 20 kB 24.7 MB/s eta 0:00:01\r\u001b[K     |██▍                             | 30 kB 15.6 MB/s eta 0:00:01\r\u001b[K     |███▏                            | 40 kB 16.5 MB/s eta 0:00:01\r\u001b[K     |████                            | 51 kB 7.0 MB/s eta 0:00:01\r\u001b[K     |████▊                           | 61 kB 8.2 MB/s eta 0:00:01\r\u001b[K     |█████▋                          | 71 kB 7.8 MB/s eta 0:00:01\r\u001b[K     |██████▍                         | 81 kB 8.8 MB/s eta 0:00:01\r\u001b[K     |███████▏                        | 92 kB 9.4 MB/s eta 0:00:01\r\u001b[K     |████████                        | 102 kB 7.0 MB/s eta 0:00:01\r\u001b[K     |████████▊                       | 112 kB 7.0 MB/s eta 0:00:01\r\u001b[K     |█████████▌                      | 122 kB 7.0 MB/s eta 0:00:01\r\u001b[K     |██████████▍                     | 133 kB 7.0 MB/s eta 0:00:01\r\u001b[K     |███████████▏                    | 143 kB 7.0 MB/s eta 0:00:01\r\u001b[K     |████████████                    | 153 kB 7.0 MB/s eta 0:00:01\r\u001b[K     |████████████▊                   | 163 kB 7.0 MB/s eta 0:00:01\r\u001b[K     |█████████████▌                  | 174 kB 7.0 MB/s eta 0:00:01\r\u001b[K     |██████████████▎                 | 184 kB 7.0 MB/s eta 0:00:01\r\u001b[K     |███████████████                 | 194 kB 7.0 MB/s eta 0:00:01\r\u001b[K     |████████████████                | 204 kB 7.0 MB/s eta 0:00:01\r\u001b[K     |████████████████▊               | 215 kB 7.0 MB/s eta 0:00:01\r\u001b[K     |█████████████████▌              | 225 kB 7.0 MB/s eta 0:00:01\r\u001b[K     |██████████████████▎             | 235 kB 7.0 MB/s eta 0:00:01\r\u001b[K     |███████████████████             | 245 kB 7.0 MB/s eta 0:00:01\r\u001b[K     |███████████████████▉            | 256 kB 7.0 MB/s eta 0:00:01\r\u001b[K     |████████████████████▊           | 266 kB 7.0 MB/s eta 0:00:01\r\u001b[K     |█████████████████████▌          | 276 kB 7.0 MB/s eta 0:00:01\r\u001b[K     |██████████████████████▎         | 286 kB 7.0 MB/s eta 0:00:01\r\u001b[K     |███████████████████████         | 296 kB 7.0 MB/s eta 0:00:01\r\u001b[K     |███████████████████████▉        | 307 kB 7.0 MB/s eta 0:00:01\r\u001b[K     |████████████████████████▋       | 317 kB 7.0 MB/s eta 0:00:01\r\u001b[K     |█████████████████████████▍      | 327 kB 7.0 MB/s eta 0:00:01\r\u001b[K     |██████████████████████████▎     | 337 kB 7.0 MB/s eta 0:00:01\r\u001b[K     |███████████████████████████     | 348 kB 7.0 MB/s eta 0:00:01\r\u001b[K     |███████████████████████████▉    | 358 kB 7.0 MB/s eta 0:00:01\r\u001b[K     |████████████████████████████▋   | 368 kB 7.0 MB/s eta 0:00:01\r\u001b[K     |█████████████████████████████▍  | 378 kB 7.0 MB/s eta 0:00:01\r\u001b[K     |██████████████████████████████▏ | 389 kB 7.0 MB/s eta 0:00:01\r\u001b[K     |███████████████████████████████ | 399 kB 7.0 MB/s eta 0:00:01\r\u001b[K     |███████████████████████████████▉| 409 kB 7.0 MB/s eta 0:00:01\r\u001b[K     |████████████████████████████████| 412 kB 7.0 MB/s \n",
            "\u001b[?25hInstalling collected packages: tld\n",
            "Successfully installed tld-0.12.6\n"
          ]
        }
      ]
    },
    {
      "cell_type": "code",
      "metadata": {
        "id": "zfNpHVT3n_hQ"
      },
      "source": [
        "english_articles = [\"the\",\"a\",\"an\",\"some\",\"to\"]\n",
        "def count_words(s) : # this method returns the number of words in a string \n",
        "  return sum([(word not in english_articles) & word.translate(str.maketrans('', '', string.punctuation)).isalpha()  for word in s.split()])\n",
        "  # the method makes sure to not include the english articles and the punctuation as a word.\n",
        "\n",
        "def average_word_length(s) :\n",
        "  word_length = [ len(word.translate(str.maketrans('', '', string.punctuation)))  for word in s.split()]\n",
        "  # the code line above returns an array with the length of every word where we have removed any sort of punctation in each word\n",
        "  a = np.asarray(word_length)\n",
        "  a = a[a>0] # here we remove the words of length 0 , this is the kind of words with only punctuation in it .\n",
        "  return np.mean(a)\n",
        "\n",
        "def largestWord_length(s):\n",
        "    words_length = [ len(word.translate(str.maketrans('', '', string.punctuation)))  for word in s.split()]\n",
        "    # Sort the words in increasing\n",
        "    # order of their lengths\n",
        "    words_length.sort() \n",
        "    return words_length[-1]\n",
        "def numberOfPunctuation(s) : \n",
        "  count = lambda l1,l2: sum([1 for x in l1 if x in l2])\n",
        "  return count(s,set(string.punctuation))"
      ],
      "execution_count": null,
      "outputs": []
    },
    {
      "cell_type": "code",
      "metadata": {
        "colab": {
          "base_uri": "https://localhost:8080/"
        },
        "id": "NNR_XOKmIr3e",
        "outputId": "b396c4ba-f248-4afa-ade1-98c9a9946f28"
      },
      "source": [
        "import bz2\n",
        "import json\n",
        "import pandas as pd\n",
        "\n",
        "path_to_file = '/content/drive/MyDrive/Quotebank/quotes-2020.json.bz2' \n",
        "path_to_out = '/content/quotes-2020-quotations-speaker.txt.bz2'\n",
        "print(pd.__version__)"
      ],
      "execution_count": null,
      "outputs": [
        {
          "output_type": "stream",
          "name": "stdout",
          "text": [
            "1.1.5\n"
          ]
        }
      ]
    },
    {
      "cell_type": "code",
      "metadata": {
        "id": "iEMdmauZJdqh"
      },
      "source": [
        "def process_chunk(chunk):\n",
        "        print(f'Processing chunk with {len(chunk)} rows')\n",
        "        print(chunk.columns)\n",
        "        display(chunk)\n",
        "df_reader = pd.read_json(path_to_file, lines=True, compression='bz2', nrows=10000)\n",
        "df_reader['number of words'] = df['quotation'].apply(count_words)\n",
        "df_reader['average_word_length'] = df['quotation'].apply(average_word_length)\n",
        "df_reader['largestWord_length'] = df['quotation'].apply(largestWord_length)\n",
        "df_read['numberOfPunctuation'] = df['quotient'].apply(numberOfPunctuation)\n",
        "speakers = df_read[df_read['speaker'] != \"None\"] # dataframe containing the list of all speakers \n",
        "df_reader.to_excel(\"quotesData_2020.xlsx\")\n",
        "speakers.to_excel(\"speakers_2020.xlsx\")\n",
        "for chunk in df_reader:\n",
        "    process_chunk(chunk)\n",
        "    break\n"
      ],
      "execution_count": null,
      "outputs": []
    },
    {
      "cell_type": "code",
      "metadata": {
        "id": "1cLjo5DzNcAR"
      },
      "source": [
        "with bz2.open(path_to_file, 'rb') as s_file:\n",
        "    with bz2.open(path_to_out, 'at') as d_file:\n",
        "        for instance in s_file:\n",
        "            instance = json.loads(instance) # loading a sample\n",
        "            quotation = instance['quotation']\n",
        "            speaker = instance['speaker']\n",
        "\n",
        "            d_file.write(quotation + ' said ' + speaker + '\\n') # writing in the new file"
      ],
      "execution_count": null,
      "outputs": []
    },
    {
      "cell_type": "code",
      "metadata": {
        "id": "uBg6b2qzZ2GW",
        "colab": {
          "base_uri": "https://localhost:8080/"
        },
        "outputId": "e5b947f6-4dbf-43cd-c103-c0b4142bb0c2"
      },
      "source": [
        "s_file = bz2.open(path_to_out, 'rt')\n",
        "  \n",
        "for i in range(1):\n",
        "  line = s_file.readline()\n",
        "  print(line)\n",
        "\n",
        "s_file.close()"
      ],
      "execution_count": null,
      "outputs": [
        {
          "output_type": "stream",
          "name": "stderr",
          "text": [
            "IOPub data rate exceeded.\n",
            "The notebook server will temporarily stop sending output\n",
            "to the client in order to avoid crashing it.\n",
            "To change this limit, set the config variable\n",
            "`--NotebookApp.iopub_data_rate_limit`.\n",
            "\n",
            "Current values:\n",
            "NotebookApp.iopub_data_rate_limit=1000000.0 (bytes/sec)\n",
            "NotebookApp.rate_limit_window=3.0 (secs)\n",
            "\n"
          ]
        }
      ]
    },
    {
      "cell_type": "code",
      "metadata": {
        "id": "hlygx1m2mwc1"
      },
      "source": [
        ""
      ],
      "execution_count": null,
      "outputs": []
    }
  ]
}